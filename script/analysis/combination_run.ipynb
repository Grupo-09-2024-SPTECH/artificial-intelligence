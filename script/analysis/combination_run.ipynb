{
 "cells": [
  {
   "cell_type": "code",
   "execution_count": 2,
   "metadata": {},
   "outputs": [],
   "source": [
    "import pandas as pd\n",
    "import sys\n",
    "sys.path.append('..')\n",
    "from functions.select_cols_functions import *\n",
    "\n",
    "import itertools\n",
    "from sklearn.model_selection import train_test_split\n",
    "from sklearn.ensemble import RandomForestClassifier\n",
    "from sklearn.metrics import accuracy_score, f1_score, precision_score, recall_score\n",
    "import numpy as np\n",
    "import random\n",
    "\n",
    "import warnings\n",
    "from sklearn.exceptions import UndefinedMetricWarning"
   ]
  },
  {
   "cell_type": "code",
   "execution_count": 34,
   "metadata": {},
   "outputs": [],
   "source": [
    "# Ignorar UndefinedMetricWarning\n",
    "warnings.filterwarnings(\"ignore\", category=UndefinedMetricWarning)"
   ]
  },
  {
   "cell_type": "code",
   "execution_count": 35,
   "metadata": {},
   "outputs": [],
   "source": [
    "df = pd.read_csv('../../../data/train_2_classes.csv')"
   ]
  },
  {
   "cell_type": "code",
   "execution_count": 36,
   "metadata": {},
   "outputs": [],
   "source": [
    "df = apply_all_rules(df)\n",
    "\n",
    "remover_colunas = [\n",
    "    'Name',\n",
    "    'RescuerID'\n",
    "]\n",
    "\n",
    "df = df.drop(columns=remover_colunas)"
   ]
  },
  {
   "cell_type": "code",
   "execution_count": 37,
   "metadata": {},
   "outputs": [],
   "source": [
    "# df = df[df['Quantity'] == 1]"
   ]
  },
  {
   "cell_type": "code",
   "execution_count": 38,
   "metadata": {},
   "outputs": [
    {
     "data": {
      "text/plain": [
       "Index(['Type', 'Age', 'Breed1', 'Breed2', 'Gender', 'Color1', 'Color2',\n",
       "       'Color3', 'MaturitySize', 'FurLength', 'Vaccinated', 'Dewormed',\n",
       "       'Sterilized', 'Health', 'Quantity', 'Fee', 'State', 'VideoAmt',\n",
       "       'PhotoAmt', 'AdoptionSpeed'],\n",
       "      dtype='object')"
      ]
     },
     "execution_count": 38,
     "metadata": {},
     "output_type": "execute_result"
    }
   ],
   "source": [
    "df.columns"
   ]
  },
  {
   "cell_type": "code",
   "execution_count": 39,
   "metadata": {},
   "outputs": [],
   "source": [
    "# Colunas de interesse (sem incluir a target)\n",
    "columns = ['Type', 'Age', 'Breed1', 'Breed2', 'Gender', 'Color1', 'Color2',\n",
    "           'Color3', 'MaturitySize', 'FurLength', 'Vaccinated', 'Dewormed',\n",
    "           'Sterilized', 'Health', 'Quantity', 'Fee', 'State', 'VideoAmt', 'PhotoAmt']\n",
    "\n",
    "# Coluna target\n",
    "target = 'AdoptionSpeed'"
   ]
  },
  {
   "cell_type": "code",
   "execution_count": 40,
   "metadata": {},
   "outputs": [
    {
     "name": "stdout",
     "output_type": "stream",
     "text": [
      "Total de combinações limitadas a 5 colunas: 16663\n"
     ]
    }
   ],
   "source": [
    "# Limite o número máximo de colunas por combinação (exemplo: 5 colunas)\n",
    "max_features = 5\n",
    "\n",
    "# Gerar as combinações apenas até o limite definido\n",
    "combinacoes_limitadas = []\n",
    "for i in range(1, max_features + 1):\n",
    "    combinacoes_limitadas.extend(itertools.combinations(columns, i))\n",
    "\n",
    "print(f\"Total de combinações limitadas a {max_features} colunas: {len(combinacoes_limitadas)}\")\n"
   ]
  },
  {
   "cell_type": "code",
   "execution_count": 41,
   "metadata": {},
   "outputs": [
    {
     "name": "stdout",
     "output_type": "stream",
     "text": [
      "Total de combinações aleatórias selecionadas: 1000\n"
     ]
    }
   ],
   "source": [
    "# Número de combinações que você deseja testar aleatoriamente\n",
    "num_combinations = 1000\n",
    "\n",
    "# Gerar uma amostra aleatória de combinações\n",
    "random_combinations = random.sample(list(itertools.chain.from_iterable(itertools.combinations(columns, i) for i in range(1, len(columns) + 1))), num_combinations)\n",
    "\n",
    "print(f\"Total de combinações aleatórias selecionadas: {len(random_combinations)}\")\n"
   ]
  },
  {
   "cell_type": "code",
   "execution_count": 42,
   "metadata": {},
   "outputs": [
    {
     "name": "stdout",
     "output_type": "stream",
     "text": [
      "Colunas mais importantes: ['PhotoAmt', 'Age', 'Breed1', 'Color2', 'Color1', 'State', 'Breed2', 'Quantity', 'MaturitySize', 'Fee']\n",
      "Total de combinações usando as colunas mais importantes: 637\n"
     ]
    }
   ],
   "source": [
    "# Usar todas as colunas para treinar um modelo de Random Forest e avaliar a importância das features\n",
    "X = df[columns]\n",
    "y = df[target]\n",
    "\n",
    "model = RandomForestClassifier()\n",
    "model.fit(X, y)\n",
    "\n",
    "# Importância das features\n",
    "importances = model.feature_importances_\n",
    "\n",
    "# Ordenar as colunas pela importância\n",
    "colunas_importantes = [col for _, col in sorted(zip(importances, columns), reverse=True)]\n",
    "\n",
    "# Exibir as colunas mais importantes\n",
    "print(\"Colunas mais importantes:\", colunas_importantes[:10])  # Limitar as 10 mais importantes\n",
    "\n",
    "# Gerar combinações usando apenas as colunas mais importantes\n",
    "combinacoes_limitadas_importantes = []\n",
    "for i in range(1, 6):  # Limitar até 5 colunas\n",
    "    combinacoes_limitadas_importantes.extend(itertools.combinations(colunas_importantes[:10], i))\n",
    "\n",
    "print(f\"Total de combinações usando as colunas mais importantes: {len(combinacoes_limitadas_importantes)}\")\n"
   ]
  },
  {
   "cell_type": "code",
   "execution_count": 43,
   "metadata": {},
   "outputs": [],
   "source": [
    "def train_and_evaluate(X_train, X_test, y_train, y_test):\n",
    "    model = RandomForestClassifier(n_estimators=750)\n",
    "    model.fit(X_train, y_train)\n",
    "    y_pred = model.predict(X_test)\n",
    "    \n",
    "    # Calcular as métricas com zero_division=0\n",
    "    accuracy = accuracy_score(y_test, y_pred)\n",
    "    f1 = f1_score(y_test, y_pred, average='weighted', zero_division=0)\n",
    "    precision = precision_score(y_test, y_pred, average='weighted', zero_division=0)\n",
    "    recall = recall_score(y_test, y_pred, average='weighted', zero_division=0)\n",
    "    \n",
    "    return accuracy, f1, precision, recall"
   ]
  },
  {
   "cell_type": "code",
   "execution_count": 44,
   "metadata": {},
   "outputs": [],
   "source": [
    "results = []"
   ]
  },
  {
   "cell_type": "code",
   "execution_count": 45,
   "metadata": {},
   "outputs": [
    {
     "name": "stdout",
     "output_type": "stream",
     "text": [
      "Iteração 637/637 - (100.00% concluído)"
     ]
    }
   ],
   "source": [
    "total_combinacoes = len(combinacoes_limitadas_importantes)\n",
    "\n",
    "for idx, combo in enumerate(combinacoes_limitadas_importantes, start=1):\n",
    "    # Exibir a iteração atual e o total em uma única linha (com carriage return)\n",
    "    progress = f\"Iteração {idx}/{total_combinacoes} - ({(idx/total_combinacoes)*100:.2f}% concluído)\"\n",
    "    sys.stdout.write('\\r' + progress)\n",
    "    sys.stdout.flush()\n",
    "\n",
    "    # Separar as features\n",
    "    X = df[list(combo)]\n",
    "    \n",
    "    # Dividir em treino e teste\n",
    "    X_train, X_test, y_train, y_test = train_test_split(X, y, test_size=0.2, random_state=42)\n",
    "    \n",
    "    # Treinar e avaliar o modelo\n",
    "    accuracy, f1, precision, recall = train_and_evaluate(X_train, X_test, y_train, y_test)\n",
    "    \n",
    "    # Armazenar os resultados\n",
    "    results.append({\n",
    "        'features': combo,\n",
    "        'accuracy': accuracy,\n",
    "        'f1_score': f1,\n",
    "        'precision': precision,\n",
    "        'recall': recall\n",
    "    })"
   ]
  },
  {
   "cell_type": "code",
   "execution_count": 46,
   "metadata": {},
   "outputs": [],
   "source": [
    "results_df = pd.DataFrame(results)"
   ]
  },
  {
   "cell_type": "code",
   "execution_count": 47,
   "metadata": {},
   "outputs": [],
   "source": [
    "results_df = results_df.sort_values(by='accuracy', ascending=False)"
   ]
  },
  {
   "cell_type": "code",
   "execution_count": 48,
   "metadata": {},
   "outputs": [],
   "source": [
    "results_df.to_csv('./combination_results.csv', index=False)"
   ]
  }
 ],
 "metadata": {
  "kernelspec": {
   "display_name": "Python 3",
   "language": "python",
   "name": "python3"
  },
  "language_info": {
   "codemirror_mode": {
    "name": "ipython",
    "version": 3
   },
   "file_extension": ".py",
   "mimetype": "text/x-python",
   "name": "python",
   "nbconvert_exporter": "python",
   "pygments_lexer": "ipython3",
   "version": "3.11.0"
  }
 },
 "nbformat": 4,
 "nbformat_minor": 2
}
