{
 "cells": [
  {
   "cell_type": "code",
   "execution_count": 5,
   "metadata": {},
   "outputs": [],
   "source": [
    "import sys\n",
    "from io import BytesIO\n",
    "sys.path.append('../..')\n",
    "from functions.select_cols_functions import *\n",
    "from functions.aws_functions import *\n",
    "import util.credentials as u"
   ]
  },
  {
   "cell_type": "code",
   "execution_count": 6,
   "metadata": {},
   "outputs": [],
   "source": [
    "bucket_name = 'adoptai-raw-prod'\n",
    "new_bucket_name = 'adoptai-trusted-prod'"
   ]
  },
  {
   "cell_type": "code",
   "execution_count": 7,
   "metadata": {},
   "outputs": [],
   "source": [
    "session = boto3.Session(\n",
    "    aws_access_key_id= u.aws_access_key_id,\n",
    "    aws_secret_access_key= u.aws_secret_access_key,\n",
    "    aws_session_token= u.aws_session_token\n",
    ")\n",
    "\n",
    "s3_client = session.client('s3')"
   ]
  },
  {
   "cell_type": "code",
   "execution_count": 8,
   "metadata": {},
   "outputs": [
    {
     "name": "stdout",
     "output_type": "stream",
     "text": [
      "Último arquivo adicionado: train_2_classes.csv\n",
      "Novo arquivo salvo em adoptai-trusted-prod/train_2_classes.csv\n"
     ]
    }
   ],
   "source": [
    "try:\n",
    "    s3_csv = s3_csv_to_df(bucket_name)\n",
    "    \n",
    "    object_key = s3_csv[0]\n",
    "    df = s3_csv[1]\n",
    "\n",
    "    df_treated = apply_all_rules(df)\n",
    "\n",
    "    csv_buffer = BytesIO()\n",
    "    df_treated.to_csv(csv_buffer, index=False)\n",
    "\n",
    "    s3_client.put_object(Bucket=new_bucket_name, Key=object_key, Body=csv_buffer.getvalue())\n",
    "    print(f'Novo arquivo salvo em {new_bucket_name}/{object_key}')\n",
    "except Exception as e:\n",
    "    print(f'Erro ao gravar o arquivo no s3 destino: {e}')\n"
   ]
  }
 ],
 "metadata": {
  "kernelspec": {
   "display_name": "Python 3",
   "language": "python",
   "name": "python3"
  },
  "language_info": {
   "codemirror_mode": {
    "name": "ipython",
    "version": 3
   },
   "file_extension": ".py",
   "mimetype": "text/x-python",
   "name": "python",
   "nbconvert_exporter": "python",
   "pygments_lexer": "ipython3",
   "version": "3.12.0"
  }
 },
 "nbformat": 4,
 "nbformat_minor": 2
}
