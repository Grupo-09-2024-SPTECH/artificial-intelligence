{
 "cells": [
  {
   "cell_type": "code",
   "execution_count": 2,
   "metadata": {},
   "outputs": [
    {
     "name": "stdout",
     "output_type": "stream",
     "text": [
      "Requirement already satisfied: pandas in c:\\python311\\lib\\site-packages (2.0.0)\n",
      "Requirement already satisfied: boto3 in c:\\python311\\lib\\site-packages (1.34.113)\n",
      "Requirement already satisfied: mysql-connector-python in c:\\python311\\lib\\site-packages (8.0.32)\n",
      "Requirement already satisfied: scikit-learn in c:\\python311\\lib\\site-packages (1.4.1.post1)\n",
      "Requirement already satisfied: python-dateutil>=2.8.2 in c:\\python311\\lib\\site-packages (from pandas) (2.8.2)\n",
      "Requirement already satisfied: pytz>=2020.1 in c:\\python311\\lib\\site-packages (from pandas) (2023.3)\n",
      "Requirement already satisfied: tzdata>=2022.1 in c:\\python311\\lib\\site-packages (from pandas) (2023.3)\n",
      "Requirement already satisfied: numpy>=1.21.0 in c:\\python311\\lib\\site-packages (from pandas) (1.24.2)\n",
      "Requirement already satisfied: botocore<1.35.0,>=1.34.113 in c:\\python311\\lib\\site-packages (from boto3) (1.34.113)\n",
      "Requirement already satisfied: jmespath<2.0.0,>=0.7.1 in c:\\python311\\lib\\site-packages (from boto3) (1.0.1)\n",
      "Requirement already satisfied: s3transfer<0.11.0,>=0.10.0 in c:\\python311\\lib\\site-packages (from boto3) (0.10.1)\n",
      "Requirement already satisfied: protobuf<=3.20.3,>=3.11.0 in c:\\python311\\lib\\site-packages (from mysql-connector-python) (3.20.3)\n",
      "Requirement already satisfied: scipy>=1.6.0 in c:\\python311\\lib\\site-packages (from scikit-learn) (1.12.0)\n",
      "Requirement already satisfied: joblib>=1.2.0 in c:\\python311\\lib\\site-packages (from scikit-learn) (1.3.2)\n",
      "Requirement already satisfied: threadpoolctl>=2.0.0 in c:\\python311\\lib\\site-packages (from scikit-learn) (3.3.0)\n",
      "Requirement already satisfied: urllib3!=2.2.0,<3,>=1.25.4 in c:\\python311\\lib\\site-packages (from botocore<1.35.0,>=1.34.113->boto3) (1.26.15)\n",
      "Requirement already satisfied: six>=1.5 in c:\\python311\\lib\\site-packages (from python-dateutil>=2.8.2->pandas) (1.16.0)\n"
     ]
    }
   ],
   "source": [
    "!pip3 install pandas boto3 mysql-connector-python scikit-learn numpy"
   ]
  },
  {
   "cell_type": "code",
   "execution_count": 5,
   "metadata": {},
   "outputs": [],
   "source": [
    "import sys\n",
    "from io import BytesIO\n",
    "sys.path.append('../..')\n",
    "from functions.select_cols_functions import *\n",
    "from functions.aws_functions import *\n",
    "import util.credentials as u"
   ]
  },
  {
   "cell_type": "code",
   "execution_count": 6,
   "metadata": {},
   "outputs": [],
   "source": [
    "bucket_name = 'adoptai-raw-dev'\n",
    "new_bucket_name = 'adoptai-trusted-dev'"
   ]
  },
  {
   "cell_type": "code",
   "execution_count": 7,
   "metadata": {},
   "outputs": [],
   "source": [
    "session = boto3.Session(\n",
    "    aws_access_key_id= u.aws_access_key_id,\n",
    "    aws_secret_access_key= u.aws_secret_access_key,\n",
    "    aws_session_token= u.aws_session_token\n",
    ")\n",
    "\n",
    "s3_client = session.client('s3')"
   ]
  },
  {
   "cell_type": "code",
   "execution_count": 8,
   "metadata": {},
   "outputs": [
    {
     "name": "stdout",
     "output_type": "stream",
     "text": [
      "Último arquivo adicionado: train_2_classes.csv\n",
      "Novo arquivo salvo em adoptai-trusted-prod/train_2_classes.csv\n"
     ]
    }
   ],
   "source": [
    "try:\n",
    "    s3_csv = s3_csv_to_df(bucket_name)\n",
    "    \n",
    "    object_key = s3_csv[0]\n",
    "    df = s3_csv[1]\n",
    "\n",
    "    df_treated = apply_all_rules(df)\n",
    "\n",
    "    csv_buffer = BytesIO()\n",
    "    df_treated.to_csv(csv_buffer, index=False)\n",
    "\n",
    "    s3_client.put_object(Bucket=new_bucket_name, Key=object_key, Body=csv_buffer.getvalue())\n",
    "    print(f'Novo arquivo salvo em {new_bucket_name}/{object_key}')\n",
    "except Exception as e:\n",
    "    print(f'Erro ao gravar o arquivo no s3 destino: {e}')\n"
   ]
  }
 ],
 "metadata": {
  "kernelspec": {
   "display_name": "Python 3",
   "language": "python",
   "name": "python3"
  },
  "language_info": {
   "codemirror_mode": {
    "name": "ipython",
    "version": 3
   },
   "file_extension": ".py",
   "mimetype": "text/x-python",
   "name": "python",
   "nbconvert_exporter": "python",
   "pygments_lexer": "ipython3",
   "version": "3.11.0"
  }
 },
 "nbformat": 4,
 "nbformat_minor": 2
}
