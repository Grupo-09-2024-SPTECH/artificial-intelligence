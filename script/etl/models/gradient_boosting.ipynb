{
 "cells": [
  {
   "cell_type": "code",
   "execution_count": 20,
   "metadata": {},
   "outputs": [],
   "source": [
    "# !pip3 install pandas boto3 mysql-connector-python scikit-learn numpy"
   ]
  },
  {
   "cell_type": "code",
   "execution_count": 21,
   "metadata": {},
   "outputs": [],
   "source": [
    "import numpy as np\n",
    "import pandas as pd\n",
    "from sklearn.model_selection import train_test_split\n",
    "from sklearn.ensemble import GradientBoostingClassifier\n",
    "from sklearn.metrics import accuracy_score, precision_score, recall_score, f1_score, mean_absolute_error, cohen_kappa_score\n",
    "import time\n",
    "import sys\n",
    "sys.path.append('../..')\n",
    "from functions.db_inserts import *\n",
    "from functions.aws_functions import *\n",
    "from functions.select_cols_functions import *"
   ]
  },
  {
   "cell_type": "code",
   "execution_count": 22,
   "metadata": {},
   "outputs": [],
   "source": [
    "env_mode = 'dev'"
   ]
  },
  {
   "cell_type": "markdown",
   "metadata": {},
   "source": [
    "### Lendo arquivo fonte"
   ]
  },
  {
   "cell_type": "code",
   "execution_count": 23,
   "metadata": {},
   "outputs": [],
   "source": [
    "bucket_name = \"adoptai-trusted-prod-tcc\""
   ]
  },
  {
   "cell_type": "code",
   "execution_count": 24,
   "metadata": {},
   "outputs": [],
   "source": [
    "if env_mode == 'dev':\n",
    "    source = 'feature_engineering'\n",
    "    df_trusted = pd.read_csv(f'../../../data/{source}.csv')\n",
    "    df_trusted = apply_all_rules(df_trusted)\n",
    "    s3 = [f'{source}.csv', df_trusted]\n",
    "elif env_mode == 'prd':\n",
    "    s3 = s3_csv_to_df(bucket_name)\n",
    "    df_trusted = s3[1]"
   ]
  },
  {
   "cell_type": "markdown",
   "metadata": {},
   "source": [
    "### Utilizando LabelEncoded nas colunas categóricas"
   ]
  },
  {
   "cell_type": "code",
   "execution_count": 25,
   "metadata": {},
   "outputs": [],
   "source": [
    "df_trusted = adjust_categoric_values(df_trusted)"
   ]
  },
  {
   "cell_type": "markdown",
   "metadata": {},
   "source": [
    "### Parametros de gravação"
   ]
  },
  {
   "cell_type": "code",
   "execution_count": 26,
   "metadata": {},
   "outputs": [],
   "source": [
    "nome_fonte = s3[0]\n",
    "nome_modelo = 'Gradient Boosting'\n",
    "parameters = {'n_estimators': [50, 100, 200]}  # Escolha alguns valores para n_estimators"
   ]
  },
  {
   "cell_type": "markdown",
   "metadata": {},
   "source": [
    "### Preparativos para executar o modelo"
   ]
  },
  {
   "cell_type": "code",
   "execution_count": 27,
   "metadata": {},
   "outputs": [],
   "source": [
    "\n",
    "# Separar as features (X) e os rótulos (y)\n",
    "x = df_trusted.iloc[:, :-1]\n",
    "y = df_trusted.iloc[:, -1]"
   ]
  },
  {
   "cell_type": "code",
   "execution_count": 28,
   "metadata": {},
   "outputs": [],
   "source": [
    "# Dividir os dados em conjuntos de treinamento e teste\n",
    "x_train, x_test, y_train, y_test = train_test_split(x, y, test_size=0.2, random_state=42)"
   ]
  },
  {
   "cell_type": "code",
   "execution_count": 29,
   "metadata": {},
   "outputs": [],
   "source": [
    "# Listas para armazenar métricas de desempenho e tempos de execução\n",
    "accuracy = []\n",
    "precision = []\n",
    "recall = []\n",
    "f1 = []\n",
    "mae = []\n",
    "qwk = []\n",
    "\n",
    "start_times = []\n",
    "end_times = []"
   ]
  },
  {
   "cell_type": "code",
   "execution_count": 30,
   "metadata": {},
   "outputs": [],
   "source": [
    "# Treina e avalia o modelo Gradient Boosting para diferentes valores de n_estimators\n",
    "for n_estimator in parameters['n_estimators']:\n",
    "\n",
    "    start_time = start_times.append(time.time())\n",
    "    gb = GradientBoostingClassifier(n_estimators=n_estimator, random_state=42)\n",
    "    gb.fit(x_train, y_train)\n",
    "    \n",
    "    y_pred = gb.predict(x_test)\n",
    "    \n",
    "    # Avaliar o modelo e armazenar as métricas\n",
    "    accuracy.append(accuracy_score(y_test, y_pred))\n",
    "    precision.append(precision_score(y_test, y_pred, average=None))\n",
    "    recall.append(recall_score(y_test, y_pred, average=None))\n",
    "    f1.append(f1_score(y_test, y_pred, average=None))\n",
    "    mae.append(mean_absolute_error(y_test, y_pred))\n",
    "    qwk.append(cohen_kappa_score(y_test, y_pred, weights='quadratic'))\n",
    "\n",
    "    end_times.append(time.time()) # Registra o tempo de término\n"
   ]
  },
  {
   "cell_type": "code",
   "execution_count": 31,
   "metadata": {},
   "outputs": [],
   "source": [
    "# Armazena as métricas calculadas\n",
    "metrics = {\n",
    "    'accuracy': accuracy,\n",
    "    'precision': precision,\n",
    "    'recall': recall,\n",
    "    'f1_score': f1,\n",
    "    'mae': mae,\n",
    "    'quadratic_weighted_kappa': qwk\n",
    "}"
   ]
  },
  {
   "cell_type": "code",
   "execution_count": 32,
   "metadata": {},
   "outputs": [],
   "source": [
    "# Prepara os dados para inserção no banco de dados\n",
    "model = {'nome_modelo': nome_modelo, 'nome_fonte': nome_fonte}\n",
    "execution = {\n",
    "    'accuracy': accuracy, \n",
    "    'mae': mae,\n",
    "    'qwk': qwk,\n",
    "    'start_time': start_times, \n",
    "    'end_time': end_times\n",
    "    }\n",
    "hyperparams = parameters\n",
    "desempenho = {\n",
    "    'precision_values': metrics['precision'], \n",
    "    'recall_values': metrics['recall'], \n",
    "    'f1_values': metrics['f1_score']\n",
    "    }"
   ]
  },
  {
   "cell_type": "code",
   "execution_count": 33,
   "metadata": {},
   "outputs": [
    {
     "name": "stdout",
     "output_type": "stream",
     "text": [
      "[1730595312.1578803, 1730595314.690557, 1730595319.6594167]\n"
     ]
    }
   ],
   "source": [
    "print(start_times)"
   ]
  },
  {
   "cell_type": "code",
   "execution_count": 34,
   "metadata": {},
   "outputs": [
    {
     "data": {
      "text/plain": [
       "{'precision_values': [array([0.33333333, 0.38223938, 0.35223048, 0.37318841, 0.49332146]),\n",
       "  array([0.42857143, 0.38817006, 0.35288553, 0.37681159, 0.49910555]),\n",
       "  array([0.375     , 0.3754386 , 0.34945706, 0.3812709 , 0.50045086])],\n",
       " 'recall_values': [array([0.02173913, 0.31578947, 0.47022333, 0.16068643, 0.66506603]),\n",
       "  array([0.0326087 , 0.33492823, 0.46277916, 0.16224649, 0.66986795]),\n",
       "  array([0.0326087 , 0.34130781, 0.43920596, 0.17784711, 0.66626651])],\n",
       " 'f1_values': [array([0.04081633, 0.34585153, 0.40276302, 0.22464558, 0.56646217]),\n",
       "  array([0.06060606, 0.35958904, 0.40042941, 0.22682661, 0.57201435]),\n",
       "  array([0.06      , 0.35756057, 0.38922485, 0.24255319, 0.5715757 ])]}"
      ]
     },
     "execution_count": 34,
     "metadata": {},
     "output_type": "execute_result"
    }
   ],
   "source": [
    "desempenho\n"
   ]
  },
  {
   "cell_type": "code",
   "execution_count": 35,
   "metadata": {},
   "outputs": [
    {
     "name": "stdout",
     "output_type": "stream",
     "text": [
      "Executando em dev\n",
      "Registros inseridos em dev\n"
     ]
    }
   ],
   "source": [
    "# Insere os valores calculados nas tabelas do banco de dados\n",
    "insert_values(model, execution, hyperparams, desempenho, env=env_mode)"
   ]
  }
 ],
 "metadata": {
  "kernelspec": {
   "display_name": "Python 3",
   "language": "python",
   "name": "python3"
  },
  "language_info": {
   "codemirror_mode": {
    "name": "ipython",
    "version": 3
   },
   "file_extension": ".py",
   "mimetype": "text/x-python",
   "name": "python",
   "nbconvert_exporter": "python",
   "pygments_lexer": "ipython3",
   "version": "3.11.0"
  }
 },
 "nbformat": 4,
 "nbformat_minor": 2
}
