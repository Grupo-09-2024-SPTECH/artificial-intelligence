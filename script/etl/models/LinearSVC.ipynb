{
 "cells": [
  {
   "cell_type": "code",
   "execution_count": 1,
   "metadata": {},
   "outputs": [
    {
     "name": "stdout",
     "output_type": "stream",
     "text": [
      "Requirement already satisfied: pandas in c:\\python311\\lib\\site-packages (2.0.0)\n",
      "Requirement already satisfied: boto3 in c:\\python311\\lib\\site-packages (1.34.113)\n",
      "Requirement already satisfied: mysql-connector-python in c:\\python311\\lib\\site-packages (8.0.32)\n",
      "Requirement already satisfied: scikit-learn in c:\\python311\\lib\\site-packages (1.4.1.post1)\n",
      "Requirement already satisfied: numpy in c:\\python311\\lib\\site-packages (1.24.2)\n",
      "Requirement already satisfied: python-dateutil>=2.8.2 in c:\\python311\\lib\\site-packages (from pandas) (2.8.2)\n",
      "Requirement already satisfied: pytz>=2020.1 in c:\\python311\\lib\\site-packages (from pandas) (2023.3)\n",
      "Requirement already satisfied: tzdata>=2022.1 in c:\\python311\\lib\\site-packages (from pandas) (2023.3)\n",
      "Requirement already satisfied: botocore<1.35.0,>=1.34.113 in c:\\python311\\lib\\site-packages (from boto3) (1.34.113)\n",
      "Requirement already satisfied: jmespath<2.0.0,>=0.7.1 in c:\\python311\\lib\\site-packages (from boto3) (1.0.1)\n",
      "Requirement already satisfied: s3transfer<0.11.0,>=0.10.0 in c:\\python311\\lib\\site-packages (from boto3) (0.10.1)\n",
      "Requirement already satisfied: protobuf<=3.20.3,>=3.11.0 in c:\\python311\\lib\\site-packages (from mysql-connector-python) (3.20.3)\n",
      "Requirement already satisfied: scipy>=1.6.0 in c:\\python311\\lib\\site-packages (from scikit-learn) (1.12.0)\n",
      "Requirement already satisfied: joblib>=1.2.0 in c:\\python311\\lib\\site-packages (from scikit-learn) (1.3.2)\n",
      "Requirement already satisfied: threadpoolctl>=2.0.0 in c:\\python311\\lib\\site-packages (from scikit-learn) (3.3.0)\n",
      "Requirement already satisfied: urllib3!=2.2.0,<3,>=1.25.4 in c:\\python311\\lib\\site-packages (from botocore<1.35.0,>=1.34.113->boto3) (1.26.15)\n",
      "Requirement already satisfied: six>=1.5 in c:\\python311\\lib\\site-packages (from python-dateutil>=2.8.2->pandas) (1.16.0)\n"
     ]
    }
   ],
   "source": [
    "!pip3 install pandas boto3 mysql-connector-python scikit-learn numpy"
   ]
  },
  {
   "cell_type": "code",
   "execution_count": 2,
   "metadata": {},
   "outputs": [],
   "source": [
    "import numpy as np\n",
    "import pandas as pd\n",
    "from sklearn.model_selection import train_test_split\n",
    "from sklearn.svm import SVC\n",
    "from sklearn.svm import LinearSVC\n",
    "from sklearn.metrics import accuracy_score, precision_score, recall_score, f1_score\n",
    "import time\n",
    "import sys\n",
    "sys.path.append('../..')\n",
    "from functions.db_inserts import *\n",
    "from functions.aws_functions import *\n",
    "from functions.select_cols_functions import *"
   ]
  },
  {
   "cell_type": "code",
   "execution_count": 3,
   "metadata": {},
   "outputs": [],
   "source": [
    "env_mode = 'prd' # 'dev' ou 'prd'"
   ]
  },
  {
   "cell_type": "markdown",
   "metadata": {},
   "source": [
    "### Lendo arquivo fonte"
   ]
  },
  {
   "cell_type": "code",
   "execution_count": 4,
   "metadata": {},
   "outputs": [],
   "source": [
    "bucket_name = \"adoptai-trusted-dev\""
   ]
  },
  {
   "cell_type": "code",
   "execution_count": 5,
   "metadata": {},
   "outputs": [],
   "source": [
    "if env_mode == 'dev':\n",
    "    df_trusted = pd.read_csv('../../../data/train_2_classes.csv')\n",
    "    df_trusted = apply_all_rules(df_trusted)\n",
    "    s3 = ['train_2_classes.csv', df_trusted]\n",
    "elif env_mode == 'prd':\n",
    "    s3 = s3_csv_to_df(bucket_name)\n",
    "    df_trusted = s3[1]"
   ]
  },
  {
   "cell_type": "markdown",
   "metadata": {},
   "source": [
    "### Parâmetros de gravação"
   ]
  },
  {
   "cell_type": "code",
   "execution_count": 6,
   "metadata": {},
   "outputs": [],
   "source": [
    "nome_fonte = s3[0]\n",
    "nome_modelo = 'SVC Linear - gamma Scale'\n",
    "parameters = {\n",
    "        'C': [\n",
    "            0.05, \n",
    "            0.1 \n",
    "        #     0.5\n",
    "        ]\n",
    "}"
   ]
  },
  {
   "cell_type": "markdown",
   "metadata": {},
   "source": [
    "### Preparativos para executar o modelo"
   ]
  },
  {
   "cell_type": "code",
   "execution_count": 7,
   "metadata": {},
   "outputs": [],
   "source": [
    "# Separar as features (X) e os rótulos (y)\n",
    "x = df_trusted.iloc[:, :-1]\n",
    "y = df_trusted.iloc[:, -1]"
   ]
  },
  {
   "cell_type": "code",
   "execution_count": 8,
   "metadata": {},
   "outputs": [],
   "source": [
    "x_train, x_test, y_train, y_test = train_test_split(x, y, test_size=0.2, random_state=42)"
   ]
  },
  {
   "cell_type": "markdown",
   "metadata": {},
   "source": [
    "###  Rodando modelo KNN"
   ]
  },
  {
   "cell_type": "code",
   "execution_count": 9,
   "metadata": {},
   "outputs": [],
   "source": [
    "accuracy = []\n",
    "precision = []\n",
    "recall = []\n",
    "f1 = []\n",
    "\n",
    "start_times = []\n",
    "end_times = []"
   ]
  },
  {
   "cell_type": "code",
   "execution_count": 10,
   "metadata": {},
   "outputs": [
    {
     "name": "stdout",
     "output_type": "stream",
     "text": [
      "1723407369.3354542 Iniciando execução: c = 0.05\n",
      "1723407414.1792324 Finalizando execução: c = 0.05\n",
      "1723407414.1792324 Iniciando execução: c = 0.1\n",
      "1723407449.866659 Finalizando execução: c = 0.1\n"
     ]
    }
   ],
   "source": [
    "for c in parameters['C']:\n",
    "    print(f'{time.time()} Iniciando execução: c = {c}')\n",
    "\n",
    "    # Treinar o modelo KNN\n",
    "    start_time = start_times.append(time.time())\n",
    "    # svc = LinearSVC(C=c)\n",
    "    svc = SVC(kernel='linear', C=c, gamma='scale')\n",
    "    svc.fit(x_train, y_train)\n",
    "\n",
    "    y_pred = svc.predict(x_test)\n",
    "\n",
    "    # Avaliar o modelo\n",
    "    accuracy.append(accuracy_score(y_test, y_pred))\n",
    "    precision.append(precision_score(y_test, y_pred, average=None))\n",
    "    recall.append(recall_score(y_test, y_pred, average=None))\n",
    "    f1.append(f1_score(y_test, y_pred, average=None))\n",
    "    end_times.append(time.time())\n",
    "\n",
    "    print(f'{time.time()} Finalizando execução: c = {c}')"
   ]
  },
  {
   "cell_type": "markdown",
   "metadata": {},
   "source": [
    "### Obtendo métricas de desempenho"
   ]
  },
  {
   "cell_type": "code",
   "execution_count": 11,
   "metadata": {},
   "outputs": [],
   "source": [
    "metrics = {\n",
    "    'accuracy': accuracy,\n",
    "    'precision': precision,\n",
    "    'recall': recall,\n",
    "    'f1_score': f1\n",
    "}"
   ]
  },
  {
   "cell_type": "markdown",
   "metadata": {},
   "source": [
    "### Gravando dados no banco"
   ]
  },
  {
   "cell_type": "code",
   "execution_count": 12,
   "metadata": {},
   "outputs": [],
   "source": [
    "model = {'nome_modelo': nome_modelo, 'nome_fonte': nome_fonte}\n",
    "execution = {'accuracy': accuracy, 'start_time': start_times, 'end_time': end_times}\n",
    "hyperparams = parameters\n",
    "desempenho = {'precision_values': metrics['precision'], 'recall_values': metrics['recall'], 'f1_values': metrics['f1_score']}"
   ]
  },
  {
   "cell_type": "code",
   "execution_count": 13,
   "metadata": {},
   "outputs": [
    {
     "name": "stdout",
     "output_type": "stream",
     "text": [
      "Executando em dev\n",
      "Registros inseridos\n"
     ]
    }
   ],
   "source": [
    "insert_values(model, execution, hyperparams, desempenho, env=env_mode)"
   ]
  }
 ],
 "metadata": {
  "kernelspec": {
   "display_name": "Python 3",
   "language": "python",
   "name": "python3"
  },
  "language_info": {
   "codemirror_mode": {
    "name": "ipython",
    "version": 3
   },
   "file_extension": ".py",
   "mimetype": "text/x-python",
   "name": "python",
   "nbconvert_exporter": "python",
   "pygments_lexer": "ipython3",
   "version": "3.11.0"
  }
 },
 "nbformat": 4,
 "nbformat_minor": 2
}
