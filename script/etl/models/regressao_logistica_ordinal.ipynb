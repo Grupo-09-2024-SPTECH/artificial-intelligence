{
 "cells": [
  {
   "cell_type": "code",
   "execution_count": null,
   "metadata": {},
   "outputs": [],
   "source": [
    "!pip3 install --user pandas boto3 mysql-connector-python scikit-learn numpy mord"
   ]
  },
  {
   "cell_type": "code",
   "execution_count": 94,
   "metadata": {},
   "outputs": [],
   "source": [
    "import numpy as np\n",
    "import pandas as pd\n",
    "from sklearn.model_selection import train_test_split\n",
    "from sklearn.metrics import accuracy_score, precision_score, recall_score, f1_score, mean_absolute_error, cohen_kappa_score\n",
    "import mord  # Importa a biblioteca mord para regressão ordinal\n",
    "import time\n",
    "from itertools import product\n",
    "import sys\n",
    "sys.path.append('../..')\n",
    "from functions.db_inserts import *\n",
    "from functions.aws_functions import *\n",
    "from functions.select_cols_functions import *\n",
    "from sklearn.preprocessing import StandardScaler"
   ]
  },
  {
   "cell_type": "code",
   "execution_count": null,
   "metadata": {},
   "outputs": [],
   "source": [
    "env_mode = 'prd'"
   ]
  },
  {
   "cell_type": "markdown",
   "metadata": {},
   "source": [
    "### Lendo arquivo fonte"
   ]
  },
  {
   "cell_type": "code",
   "execution_count": 96,
   "metadata": {},
   "outputs": [],
   "source": [
    "bucket_name = \"adoptai-trusted-prod-tcc\""
   ]
  },
  {
   "cell_type": "code",
   "execution_count": 97,
   "metadata": {},
   "outputs": [],
   "source": [
    "if env_mode == 'dev':\n",
    "    source = 'feature_engineering'\n",
    "    df_trusted = pd.read_csv(f'../../../data/{source}.csv')\n",
    "    df_trusted = apply_all_rules(df_trusted)\n",
    "    s3 = [f'{source}.csv', df_trusted]\n",
    "elif env_mode == 'prd':\n",
    "    s3 = s3_csv_to_df(bucket_name)\n",
    "    df_trusted = s3[1]"
   ]
  },
  {
   "cell_type": "markdown",
   "metadata": {},
   "source": [
    "### Utilizando LabelEncoded nas colunas categóricas"
   ]
  },
  {
   "cell_type": "code",
   "execution_count": 98,
   "metadata": {},
   "outputs": [],
   "source": [
    "df_trusted = adjust_categoric_values(df_trusted)"
   ]
  },
  {
   "cell_type": "markdown",
   "metadata": {},
   "source": [
    "### Parametros de gravação"
   ]
  },
  {
   "cell_type": "code",
   "execution_count": 99,
   "metadata": {},
   "outputs": [],
   "source": [
    "nome_fonte = s3[0]\n",
    "nome_modelo = 'Regressão Logística Ordinal'\n",
    "parameters = {\n",
    "    'alpha': [0.0001, 0.001, 0.01, 0.1, 1]\n",
    "}"
   ]
  },
  {
   "cell_type": "markdown",
   "metadata": {},
   "source": [
    "### Preparativos para executar o modelo"
   ]
  },
  {
   "cell_type": "code",
   "execution_count": 100,
   "metadata": {},
   "outputs": [],
   "source": [
    "\n",
    "# Separar as features (X) e os rótulos (y)\n",
    "x = df_trusted.iloc[:, :-1]\n",
    "y = df_trusted.iloc[:, -1]"
   ]
  },
  {
   "cell_type": "code",
   "execution_count": 101,
   "metadata": {},
   "outputs": [],
   "source": [
    "# Dividir os dados em conjuntos de treinamento e teste\n",
    "x_train, x_test, y_train, y_test = train_test_split(x, y, test_size=0.2, random_state=42)"
   ]
  },
  {
   "cell_type": "code",
   "execution_count": 102,
   "metadata": {},
   "outputs": [],
   "source": [
    "scaler = StandardScaler()\n",
    "x_train = scaler.fit_transform(x_train)\n",
    "x_test = scaler.transform(x_test)"
   ]
  },
  {
   "cell_type": "code",
   "execution_count": 103,
   "metadata": {},
   "outputs": [],
   "source": [
    "# Listas para armazenar métricas de desempenho e tempos de execução\n",
    "accuracy = []\n",
    "precision = []\n",
    "recall = []\n",
    "f1 = []\n",
    "mae = []\n",
    "qwk = []\n",
    "\n",
    "start_times = []\n",
    "end_times = []"
   ]
  },
  {
   "cell_type": "code",
   "execution_count": 104,
   "metadata": {},
   "outputs": [
    {
     "name": "stderr",
     "output_type": "stream",
     "text": [
      "c:\\Users\\erikp\\AppData\\Local\\Programs\\Python\\Python311\\Lib\\site-packages\\sklearn\\metrics\\_classification.py:1531: UndefinedMetricWarning: Precision is ill-defined and being set to 0.0 in labels with no predicted samples. Use `zero_division` parameter to control this behavior.\n",
      "  _warn_prf(average, modifier, f\"{metric.capitalize()} is\", len(result))\n",
      "c:\\Users\\erikp\\AppData\\Local\\Programs\\Python\\Python311\\Lib\\site-packages\\sklearn\\metrics\\_classification.py:1531: UndefinedMetricWarning: Precision is ill-defined and being set to 0.0 in labels with no predicted samples. Use `zero_division` parameter to control this behavior.\n",
      "  _warn_prf(average, modifier, f\"{metric.capitalize()} is\", len(result))\n",
      "c:\\Users\\erikp\\AppData\\Local\\Programs\\Python\\Python311\\Lib\\site-packages\\sklearn\\metrics\\_classification.py:1531: UndefinedMetricWarning: Precision is ill-defined and being set to 0.0 in labels with no predicted samples. Use `zero_division` parameter to control this behavior.\n",
      "  _warn_prf(average, modifier, f\"{metric.capitalize()} is\", len(result))\n",
      "c:\\Users\\erikp\\AppData\\Local\\Programs\\Python\\Python311\\Lib\\site-packages\\sklearn\\metrics\\_classification.py:1531: UndefinedMetricWarning: Precision is ill-defined and being set to 0.0 in labels with no predicted samples. Use `zero_division` parameter to control this behavior.\n",
      "  _warn_prf(average, modifier, f\"{metric.capitalize()} is\", len(result))\n",
      "c:\\Users\\erikp\\AppData\\Local\\Programs\\Python\\Python311\\Lib\\site-packages\\sklearn\\metrics\\_classification.py:1531: UndefinedMetricWarning: Precision is ill-defined and being set to 0.0 in labels with no predicted samples. Use `zero_division` parameter to control this behavior.\n",
      "  _warn_prf(average, modifier, f\"{metric.capitalize()} is\", len(result))\n"
     ]
    }
   ],
   "source": [
    "for alpha in parameters['alpha']:\n",
    "    \n",
    "    start_time = start_times.append(time.time())\n",
    "    \n",
    "    model = mord.LogisticAT(alpha=alpha)  # Inicializa o modelo com alpha\n",
    "    model.fit(x_train, y_train) \n",
    "\n",
    "    y_pred = model.predict(x_test)  # Faz previsões no conjunto de teste\n",
    "\n",
    "    # Avaliar o modelo e armazenar as métricas\n",
    "    accuracy.append(accuracy_score(y_test, y_pred))\n",
    "    precision.append(precision_score(y_test, y_pred, average=None))\n",
    "    recall.append(recall_score(y_test, y_pred, average=None))\n",
    "    f1.append(f1_score(y_test, y_pred, average=None))\n",
    "    mae.append(mean_absolute_error(y_test, y_pred))\n",
    "    qwk.append(cohen_kappa_score(y_test, y_pred, weights='quadratic'))  # Cálculo do QWK\n",
    "\n",
    "    end_times.append(time.time())"
   ]
  },
  {
   "cell_type": "code",
   "execution_count": 105,
   "metadata": {},
   "outputs": [],
   "source": [
    "# Armazena as métricas calculadas\n",
    "metrics = {\n",
    "    'accuracy': accuracy,\n",
    "    'precision': precision,\n",
    "    'recall': recall,\n",
    "    'f1_score': f1\n",
    "}"
   ]
  },
  {
   "cell_type": "code",
   "execution_count": 106,
   "metadata": {},
   "outputs": [],
   "source": [
    "# Prepara os dados para inserção no banco de dados\n",
    "model = {'nome_modelo': nome_modelo, 'nome_fonte': nome_fonte}\n",
    "execution = {\n",
    "    'accuracy': accuracy, \n",
    "    'mae': mae,\n",
    "    'qwk': qwk,\n",
    "    'start_time': start_times, \n",
    "    'end_time': end_times\n",
    "    }\n",
    "hyperparams = parameters\n",
    "desempenho = {\n",
    "    'precision_values': metrics['precision'], \n",
    "    'recall_values': metrics['recall'], \n",
    "    'f1_values': metrics['f1_score']\n",
    "    }"
   ]
  },
  {
   "cell_type": "code",
   "execution_count": 107,
   "metadata": {},
   "outputs": [
    {
     "name": "stdout",
     "output_type": "stream",
     "text": [
      "Executando em dev\n",
      "Registros inseridos em dev\n"
     ]
    }
   ],
   "source": [
    "# Insere os valores calculados nas tabelas do banco de dados\n",
    "insert_values(model, execution, hyperparams, desempenho, env=env_mode)"
   ]
  }
 ],
 "metadata": {
  "kernelspec": {
   "display_name": "Python 3",
   "language": "python",
   "name": "python3"
  },
  "language_info": {
   "codemirror_mode": {
    "name": "ipython",
    "version": 3
   },
   "file_extension": ".py",
   "mimetype": "text/x-python",
   "name": "python",
   "nbconvert_exporter": "python",
   "pygments_lexer": "ipython3",
   "version": "3.11.0"
  }
 },
 "nbformat": 4,
 "nbformat_minor": 2
}
