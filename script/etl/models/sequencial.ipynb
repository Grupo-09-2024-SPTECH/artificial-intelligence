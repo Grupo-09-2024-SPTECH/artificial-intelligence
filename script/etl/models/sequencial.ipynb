{
 "cells": [
  {
   "cell_type": "code",
   "execution_count": 1286,
   "metadata": {},
   "outputs": [
    {
     "name": "stdout",
     "output_type": "stream",
     "text": [
      "Requirement already satisfied: pandas in c:\\python311\\lib\\site-packages (2.0.0)\n",
      "Requirement already satisfied: boto3 in c:\\python311\\lib\\site-packages (1.34.113)\n",
      "Requirement already satisfied: mysql-connector-python in c:\\python311\\lib\\site-packages (8.0.32)\n",
      "Requirement already satisfied: scikit-learn in c:\\python311\\lib\\site-packages (1.4.1.post1)\n",
      "Requirement already satisfied: numpy in c:\\python311\\lib\\site-packages (1.24.2)\n",
      "Requirement already satisfied: python-dateutil>=2.8.2 in c:\\python311\\lib\\site-packages (from pandas) (2.8.2)\n",
      "Requirement already satisfied: pytz>=2020.1 in c:\\python311\\lib\\site-packages (from pandas) (2023.3)\n",
      "Requirement already satisfied: tzdata>=2022.1 in c:\\python311\\lib\\site-packages (from pandas) (2023.3)\n",
      "Requirement already satisfied: botocore<1.35.0,>=1.34.113 in c:\\python311\\lib\\site-packages (from boto3) (1.34.113)\n",
      "Requirement already satisfied: jmespath<2.0.0,>=0.7.1 in c:\\python311\\lib\\site-packages (from boto3) (1.0.1)\n",
      "Requirement already satisfied: s3transfer<0.11.0,>=0.10.0 in c:\\python311\\lib\\site-packages (from boto3) (0.10.1)\n",
      "Requirement already satisfied: protobuf<=3.20.3,>=3.11.0 in c:\\python311\\lib\\site-packages (from mysql-connector-python) (3.20.3)\n",
      "Requirement already satisfied: scipy>=1.6.0 in c:\\python311\\lib\\site-packages (from scikit-learn) (1.12.0)\n",
      "Requirement already satisfied: joblib>=1.2.0 in c:\\python311\\lib\\site-packages (from scikit-learn) (1.3.2)\n",
      "Requirement already satisfied: threadpoolctl>=2.0.0 in c:\\python311\\lib\\site-packages (from scikit-learn) (3.3.0)\n",
      "Requirement already satisfied: urllib3!=2.2.0,<3,>=1.25.4 in c:\\python311\\lib\\site-packages (from botocore<1.35.0,>=1.34.113->boto3) (1.26.15)\n",
      "Requirement already satisfied: six>=1.5 in c:\\python311\\lib\\site-packages (from python-dateutil>=2.8.2->pandas) (1.16.0)\n"
     ]
    }
   ],
   "source": [
    "!pip3 install pandas boto3 mysql-connector-python scikit-learn numpy"
   ]
  },
  {
   "cell_type": "code",
   "execution_count": 1287,
   "metadata": {},
   "outputs": [],
   "source": [
    "import numpy as np\n",
    "import pandas as pd\n",
    "from sklearn.model_selection import train_test_split\n",
    "import tensorflow as tf\n",
    "from tensorflow import keras\n",
    "import matplotlib as mpl\n",
    "from sklearn.metrics import accuracy_score, precision_score, recall_score, f1_score\n",
    "import time\n",
    "import sys\n",
    "sys.path.append('../..') # Adiciona o diretório superior ao caminho de importação para acessar funções utilitárias\n",
    "from functions.db_inserts import * # Importa funções para inserção de dados no banco de dados\n",
    "from functions.aws_functions import * # Importa funções relacionadas à AWS\n",
    "from functions.select_cols_functions import * # Importa funções para seleção e processamento de colunas\n",
    "from tensorflow.keras.regularizers import l2"
   ]
  },
  {
   "cell_type": "code",
   "execution_count": 1288,
   "metadata": {},
   "outputs": [],
   "source": [
    "env_mode = 'dev' # Define o modo de ambiente: 'dev' para desenvolvimento, 'prd' para produção"
   ]
  },
  {
   "cell_type": "markdown",
   "metadata": {},
   "source": [
    "### Lendo arquivo fonte"
   ]
  },
  {
   "cell_type": "code",
   "execution_count": 1289,
   "metadata": {},
   "outputs": [],
   "source": [
    "bucket_name = \"adoptai-trusted-dev\" # Nome do bucket S3 de onde os dados serão carregados"
   ]
  },
  {
   "cell_type": "code",
   "execution_count": 1290,
   "metadata": {},
   "outputs": [],
   "source": [
    "if env_mode == 'dev':\n",
    "    # Modo de desenvolvimento: carrega e processa os dados localmente\n",
    "    df_trusted = pd.read_csv('../../../data/train_2_classes.csv')\n",
    "    df_trusted = apply_all_rules(df_trusted)\n",
    "    s3 = ['train_2_classes.csv', df_trusted]\n",
    "elif env_mode == 'prd':\n",
    "    # Modo de produção: carrega e processa os dados a partir do S3\n",
    "    s3 = s3_csv_to_df(bucket_name)\n",
    "    df_trusted = s3[1]"
   ]
  },
  {
   "cell_type": "markdown",
   "metadata": {},
   "source": [
    "### Parâmetros de gravação"
   ]
  },
  {
   "cell_type": "code",
   "execution_count": 1291,
   "metadata": {},
   "outputs": [],
   "source": [
    "nome_fonte = s3[0] # Armazena o nome do arquivo de dados utilizado\n",
    "nome_modelo = 'Sequential (Rede Neural)' # Define o nome do modelo\n",
    "parameters = {\n",
    "    '1_layer_neuro': [\n",
    "        10\n",
    "        # 400, \n",
    "        # 500, \n",
    "        # 600\n",
    "    ], # Define a quantidade de neurônios na primeira camada\n",
    "}"
   ]
  },
  {
   "cell_type": "markdown",
   "metadata": {},
   "source": [
    "### Preparativos para executar o modelo"
   ]
  },
  {
   "cell_type": "code",
   "execution_count": 1292,
   "metadata": {},
   "outputs": [],
   "source": [
    "# Separar as features (x) e os rótulos (y)\n",
    "x = df_trusted.iloc[:, :-1] # Seleciona todas as colunas, exceto a última, como features\n",
    "y = df_trusted.iloc[:, -1] # Seleciona a última coluna como rótulo"
   ]
  },
  {
   "cell_type": "code",
   "execution_count": 1293,
   "metadata": {},
   "outputs": [],
   "source": [
    "# Dividir os dados em conjuntos de treinamento e teste\n",
    "x_train_full, x_test, y_train_full, y_test = train_test_split(x, y, test_size=0.05, random_state=42)"
   ]
  },
  {
   "cell_type": "code",
   "execution_count": 1294,
   "metadata": {},
   "outputs": [],
   "source": [
    "x_valid, x_train = x_train_full[:int(len(x_train_full) * 0.1)], x_train_full[int(len(x_train_full) * 0.1):]\n",
    "y_valid, y_train = y_train_full[:int(len(y_train_full) * 0.1)], y_train_full[int(len(y_train_full) * 0.1):]"
   ]
  },
  {
   "cell_type": "code",
   "execution_count": 1295,
   "metadata": {},
   "outputs": [],
   "source": [
    "keras.backend.clear_session()\n",
    "np.random.seed(42)\n",
    "tf.random.set_seed(42)"
   ]
  },
  {
   "cell_type": "code",
   "execution_count": 1296,
   "metadata": {},
   "outputs": [
    {
     "name": "stdout",
     "output_type": "stream",
     "text": [
      "(12819, 21)\n",
      "(1424, 21)\n",
      "(750, 21)\n"
     ]
    }
   ],
   "source": [
    "print(x_train.shape)\n",
    "print(x_valid.shape)\n",
    "print(x_test.shape)"
   ]
  },
  {
   "cell_type": "markdown",
   "metadata": {},
   "source": [
    "###  Rodando modelo Sequencial"
   ]
  },
  {
   "cell_type": "code",
   "execution_count": 1297,
   "metadata": {},
   "outputs": [],
   "source": [
    "# Listas para armazenar métricas de desempenho e tempos de execução\n",
    "accuracy = []\n",
    "precision = []\n",
    "recall = []\n",
    "f1 = []\n",
    "\n",
    "start_times = []\n",
    "end_times = []"
   ]
  },
  {
   "cell_type": "code",
   "execution_count": 1298,
   "metadata": {},
   "outputs": [
    {
     "name": "stdout",
     "output_type": "stream",
     "text": [
      "Epoch 1/5\n",
      "\u001b[1m401/401\u001b[0m \u001b[32m━━━━━━━━━━━━━━━━━━━━\u001b[0m\u001b[37m\u001b[0m \u001b[1m1s\u001b[0m 998us/step - accuracy: 0.4944 - loss: 7214.6973 - val_accuracy: 0.4979 - val_loss: 6544.0000\n",
      "Epoch 2/5\n",
      "\u001b[1m401/401\u001b[0m \u001b[32m━━━━━━━━━━━━━━━━━━━━\u001b[0m\u001b[37m\u001b[0m \u001b[1m0s\u001b[0m 684us/step - accuracy: 0.4944 - loss: 6411.0166 - val_accuracy: 0.4979 - val_loss: 5770.0566\n",
      "Epoch 3/5\n",
      "\u001b[1m401/401\u001b[0m \u001b[32m━━━━━━━━━━━━━━━━━━━━\u001b[0m\u001b[37m\u001b[0m \u001b[1m0s\u001b[0m 638us/step - accuracy: 0.4944 - loss: 5640.7324 - val_accuracy: 0.4979 - val_loss: 5027.0703\n",
      "Epoch 4/5\n",
      "\u001b[1m401/401\u001b[0m \u001b[32m━━━━━━━━━━━━━━━━━━━━\u001b[0m\u001b[37m\u001b[0m \u001b[1m0s\u001b[0m 637us/step - accuracy: 0.4944 - loss: 4901.3877 - val_accuracy: 0.4979 - val_loss: 4314.3506\n",
      "Epoch 5/5\n",
      "\u001b[1m401/401\u001b[0m \u001b[32m━━━━━━━━━━━━━━━━━━━━\u001b[0m\u001b[37m\u001b[0m \u001b[1m0s\u001b[0m 647us/step - accuracy: 0.4944 - loss: 4193.1250 - val_accuracy: 0.4979 - val_loss: 3642.5640\n",
      "\u001b[1m24/24\u001b[0m \u001b[32m━━━━━━━━━━━━━━━━━━━━\u001b[0m\u001b[37m\u001b[0m \u001b[1m0s\u001b[0m 2ms/step \n",
      "--------------------------------------------------\n",
      "\u001b[1m24/24\u001b[0m \u001b[32m━━━━━━━━━━━━━━━━━━━━\u001b[0m\u001b[37m\u001b[0m \u001b[1m0s\u001b[0m 675us/step - accuracy: 0.4911 - loss: 3758.5220\n"
     ]
    }
   ],
   "source": [
    "# start_times.append(time.time()) # Registra o tempo de início\n",
    "\n",
    "# Inicializa o modelo com os parâmetros atuais\n",
    "model = keras.models.Sequential([\n",
    "    # keras.layers.Flatten(input_shape=[28, 28]),\n",
    "    keras.layers.Dense(16, activation=\"relu\", name='input'),\n",
    "    keras.layers.Dense(10, activation=\"relu\", name='1aCamadaEscondida'),\n",
    "    keras.layers.Dense(5, activation=\"relu\", name='2aCamadaEscondida'),\n",
    "    keras.layers.Dense(2, activation=\"softmax\", name='output')\n",
    "])\n",
    "\n",
    "model.compile(loss=\"sparse_categorical_crossentropy\",\n",
    "            optimizer=keras.optimizers.RMSprop(learning_rate=1e-5),\n",
    "            metrics=[\"accuracy\"])\n",
    "\n",
    "history = model.fit(x_train,\n",
    "                y_train,\n",
    "                epochs=5,\n",
    "                validation_data=(x_valid, y_valid)\n",
    "                )\n",
    "\n",
    "# Fazer previsões no conjunto de teste\n",
    "y_pred = model.predict(x_test)\n",
    "print('-' * 50)\n",
    "model.evaluate(x_test, y_test)"
   ]
  }
 ],
 "metadata": {
  "kernelspec": {
   "display_name": "Python 3",
   "language": "python",
   "name": "python3"
  },
  "language_info": {
   "codemirror_mode": {
    "name": "ipython",
    "version": 3
   },
   "file_extension": ".py",
   "mimetype": "text/x-python",
   "name": "python",
   "nbconvert_exporter": "python",
   "pygments_lexer": "ipython3",
   "version": "3.11.0"
  }
 },
 "nbformat": 4,
 "nbformat_minor": 2
}
